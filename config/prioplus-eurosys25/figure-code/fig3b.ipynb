{
 "cells": [
  {
   "cell_type": "code",
   "execution_count": 1,
   "metadata": {},
   "outputs": [],
   "source": [
    "import os, sys, json\n",
    "import matplotlib.pyplot as plt\n",
    "import numpy as np\n",
    "sys.path.append(\"..\")\n",
    "import matplotlib\n",
    "matplotlib.rcParams['pdf.fonttype'] = 42\n",
    "matplotlib.rcParams['ps.fonttype'] = 42"
   ]
  },
  {
   "cell_type": "code",
   "execution_count": 2,
   "metadata": {},
   "outputs": [],
   "source": [
    "# read from json\n",
    "data = None\n",
    "data_path = \"../../../output/prioplus-eurosys25/experiments/\"\n",
    "experiment_name = \"fig3b\"\n",
    "with open(data_path + experiment_name + \".json\", \"r\") as f:\n",
    "    data = json.load(f)"
   ]
  },
  {
   "cell_type": "code",
   "execution_count": null,
   "metadata": {},
   "outputs": [],
   "source": [
    "# In this experiment, we have four flows and a bottleneck link\n",
    "# Draw the send rate of each flow in subfigure1\n",
    "# And draw the queue length of the bottleneck link in subfigure2\n",
    "\n",
    "# Calculate the send rate from data{flowStatistics:[0:4]:sentPkt:[timeNs,sizeByte]}\n",
    "# The send rate is calculated by the number Bytes sent in each time interval\n",
    "send_rate_interval_ns = 10e4  # 10us\n",
    "send_rate = []\n",
    "# calculate the total send rate of first 300 flows and the last flows\n",
    "\n",
    "prio_num = 2\n",
    "flow_num = 2\n",
    "pkt_idxs = [0 for _ in range(prio_num*flow_num)]\n",
    "for p in range(prio_num):\n",
    "    send_rate.append([])\n",
    "    wnd_start = data[\"flowStatistics\"][0][\"sentPkt\"][0][\"timeNs\"]\n",
    "    # the first point\n",
    "    send_rate[p].append({\"timeNs\": wnd_start, \"sendRateGbps\": 0})\n",
    "    wnd_data = 0\n",
    "    \n",
    "    while True:\n",
    "        wnd_data = 0\n",
    "        next_wnd_start = wnd_start + send_rate_interval_ns\n",
    "        for i in range(flow_num):\n",
    "            pkt_idx = 0\n",
    "            flow_idx = p * flow_num + i\n",
    "            for pkt_idx in range(pkt_idxs[flow_idx], len(data[\"flowStatistics\"][flow_idx][\"sentPkt\"])):\n",
    "                sentPkt = data[\"flowStatistics\"][flow_idx][\"sentPkt\"][pkt_idx]\n",
    "                if sentPkt[\"timeNs\"] - wnd_start > send_rate_interval_ns:\n",
    "                    # Gbps = bpns\n",
    "                    # pkt_idxs[flow_idx] = pkt_idx - 1\n",
    "                    break\n",
    "                wnd_data += sentPkt[\"sizeByte\"]\n",
    "            pkt_idxs[flow_idx] = pkt_idx\n",
    "        send_rate[p].append({\"timeNs\": wnd_start + send_rate_interval_ns/2,\n",
    "                            \"sendRateGbps\": wnd_data * 8 / send_rate_interval_ns})\n",
    "        wnd_start = next_wnd_start\n",
    "\n",
    "        should_break = True\n",
    "        for i in range(flow_num):\n",
    "            if pkt_idxs[flow_idx] < len(data[\"flowStatistics\"][flow_idx][\"sentPkt\"]) - 1:\n",
    "                should_break = False\n",
    "                break\n",
    "        if should_break:\n",
    "            break\n",
    "    # the last point\n",
    "    send_rate[p].append({\"timeNs\": wnd_start + send_rate_interval_ns/2,\n",
    "                        \"sendRateGbps\": 0})"
   ]
  },
  {
   "cell_type": "code",
   "execution_count": 5,
   "metadata": {},
   "outputs": [
    {
     "data": {
      "image/png": "[encoded data removed]",
      "text/plain": [
       "<Figure size 300x200 with 2 Axes>"
      ]
     },
     "metadata": {},
     "output_type": "display_data"
    }
   ],
   "source": [
    "# draw the send rate in a new figure\n",
    "fig = plt.figure(figsize=(3, 2))\n",
    "ax1 = fig.add_subplot(211)\n",
    "# ax.set_xlabel(\"Time (us)\")\n",
    "ax1.set_ylabel(\"Rate(Gbps)\")\n",
    "\n",
    "legend_lines = []\n",
    "\n",
    "color_rate = [\"#F44336\", \"#1E88E5\"]\n",
    "idx = {\n",
    "    0: 1,\n",
    "    1: 0\n",
    "}\n",
    "color_queue = [\"#4E342E\", \"#FB8C00\"]\n",
    "line_style = [\"-\",\"--\"]\n",
    "\n",
    "time_shift = 100e3+3\n",
    "for i in [0, 1]:\n",
    "    line = ax1.plot([0]+[s[\"timeNs\"]/1e3 - time_shift for s in send_rate[i]][1:], [95.2]+[s[\"sendRateGbps\"]\n",
    "                                                                                          for s in send_rate[i]][1:], label=\"flow\"+str(i), color=color_rate[idx[i]], linestyle=line_style[idx[i]])\n",
    "    legend_lines.append(line[0])\n",
    "ax1.grid(True, linestyle='--', linewidth=0.5, which='both', axis='both')\n",
    "ax1.set_xlim(0, 500)\n",
    "ax1.set_ylim(0, 100)\n",
    "# hide x-axis label and ticks\n",
    "ax1.xaxis.set_tick_params(labelbottom=False)\n",
    "\n",
    "ax2 = fig.add_subplot(212)\n",
    "ax2.set_xlabel(\"Time (us)\")\n",
    "ax2.set_ylabel(\"Queue(KB)\")\n",
    "\n",
    "switch_idx = 0\n",
    "port_idx = 7\n",
    "queue_idx = 0\n",
    "# time_shift = 100e3 + 10\n",
    "line = ax2.plot([q[\"timeNs\"]/1e3 - time_shift for q in data[\"switchStatistics\"][switch_idx][\"portStats\"][port_idx][\"queueStats\"][queue_idx][\"qLength\"]],\n",
    "                [q[\"lengthBytes\"] / 1024 for q in data[\"switchStatistics\"][switch_idx][\"portStats\"][port_idx][\"queueStats\"][queue_idx][\"qLength\"]], label=\"Queue Length\", color=color_queue[0], linestyle=line_style[0])\n",
    "legend_lines.append(line[0])\n",
    "def target_to_queue(tar):\n",
    "    return tar * 1e-9 * 100e9 / 8 - 150e3\n",
    "line = ax2.plot([t[\"timeNs\"]/1e3 - time_shift for t in data[\"flowStatistics\"][0][\"ccStats\"][\"targetDelay\"]],\n",
    "                [target_to_queue(t[\"targetDelayNs\"])/1024 for t in data[\"flowStatistics\"][0][\"ccStats\"][\"targetDelay\"]], label=\"flow0 target delay\", color=color_queue[1], linestyle=line_style[1])\n",
    "# line = ax2.plot([t[\"timeNs\"]/1e3 - time_shift for t in data[\"flowStatistics\"][2][\"ccStats\"][\"targetDelay\"]],\n",
    "#                 [target_to_queue(t[\"targetDelayNs\"])/1024 for t in data[\"flowStatistics\"][2][\"ccStats\"][\"targetDelay\"]], label=\"flow0 target delay\", color=color_queue[1], linestyle=line_style[1])\n",
    "legend_lines.append(line[0])\n",
    "\n",
    "ax2.annotate('Target delay of low-\\nprio flow is scaled up', xy=(85, 150), xytext=(-9, 15),\n",
    "            xycoords='data', textcoords='offset points',\n",
    "            arrowprops=dict(facecolor='black', shrink=0, width=2, headlength=5, headwidth=5),\n",
    "            )\n",
    "\n",
    "# ax.axhline(y=400, color='r', linestyle='--', label=\"ECN Threshold\")\n",
    "ax2.grid(True, linestyle='--', linewidth=0.5, which='both', axis='both')\n",
    "ax2.set_xlim(0, 200)\n",
    "ax2.set_ylim(0, 500)\n",
    "\n",
    "plt.savefig(\"../figures/\" + \"fig3b\" +\n",
    "            \".pdf\", bbox_inches='tight', dpi=600, format='pdf')"
   ]
  },
  {
   "cell_type": "code",
   "execution_count": 6,
   "metadata": {},
   "outputs": [
    {
     "data": {
      "text/plain": [
       "<Figure size 800x100 with 0 Axes>"
      ]
     },
     "metadata": {},
     "output_type": "display_data"
    }
   ],
   "source": [
    "figlegend = plt.figure(figsize=(8,1))\n",
    "# 减少legend的白边\n",
    "plt.subplots_adjust(left=0.1, right=0.9, top=0.8, bottom=0.2)\n",
    "# interchange the order of the labels in pair\n",
    "\n",
    "label_names = [\"High-prio flow\", \"Low-prio flow\", \"Queue Length\", \"Target Delay\"]\n",
    "legend_lines = [legend_lines[1], legend_lines[0], legend_lines[2], legend_lines[3]]\n",
    "\n",
    "figlegend.legend(legend_lines, label_names, loc='center', ncol=len(label_names), frameon=False)\n",
    "figlegend.savefig(\"../figures/fig3\" + \"-legend.pdf\", bbox_inches=\"tight\", pad_inches=0.0, dpi=600, format=\"pdf\")"
   ]
  }
 ],
 "metadata": {
  "kernelspec": {
   "display_name": "Python 3",
   "language": "python",
   "name": "python3"
  },
  "language_info": {
   "codemirror_mode": {
    "name": "ipython",
    "version": 3
   },
   "file_extension": ".py",
   "mimetype": "text/x-python",
   "name": "python",
   "nbconvert_exporter": "python",
   "pygments_lexer": "ipython3",
   "version": "3.10.12"
  }
 },
 "nbformat": 4,
 "nbformat_minor": 2
}
