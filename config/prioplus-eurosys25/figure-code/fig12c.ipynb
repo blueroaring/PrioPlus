{
 "cells": [
  {
   "cell_type": "code",
   "execution_count": null,
   "metadata": {},
   "outputs": [],
   "source": [
    "import os, sys, json\n",
    "import matplotlib.pyplot as plt\n",
    "import numpy as np\n",
    "import matplotlib\n",
    "matplotlib.rcParams['pdf.fonttype'] = 42\n",
    "matplotlib.rcParams['ps.fonttype'] = 42\n",
    "sys.path.append(\"..\")"
   ]
  },
  {
   "cell_type": "code",
   "execution_count": 2,
   "metadata": {},
   "outputs": [],
   "source": [
    "# read from json\n",
    "data = None\n",
    "data_path = \"../../../output/prioplus-eurosys25/experiments/fig12c/\"\n",
    "experiment_names = [\n",
    "    \"harvest-delay-rtt-newconfig-ackhigh-error\",\n",
    "    \"nocc-physics-priority\",\n",
    "    \"ledbat\",\n",
    "    \"swift-samedelay\",\n",
    "    \"d2tcp-linestart\",\n",
    "    \"swift-physics-priority\",\n",
    "    \"harvest-ledbat\",\n",
    "    \"swift\"\n",
    "]"
   ]
  },
  {
   "cell_type": "code",
   "execution_count": null,
   "metadata": {},
   "outputs": [],
   "source": [
    "# slowdowns = [[] for i in range(len(experiment_names))]\n",
    "# avg_slowdowns = [[] for i in range(len(experiment_names))]\n",
    "# p99_slowdowns = [[] for i in range(len(experiment_names))]\n",
    "flowscnt = []\n",
    "\n",
    "for exp_idx, experiment_name in enumerate(experiment_names):\n",
    "\n",
    "    with open(data_path + experiment_name + \".json\", \"r\") as f:\n",
    "        data = json.load(f)\n",
    "\n",
    "    # group data:\"flowStatistics\":[:] by data:\"flowStatistics\":\"flowType\"\n",
    "    # we have eight flow type, from 0 prio to 7 prio\n",
    "    flow_types = [str(i) + \"prio\" for i in range(8)]\n",
    "    flows = [[] for i in range(len(flow_types))]\n",
    "    for flow in data[\"flowStatistics\"]:\n",
    "        # find the index of src_addr\n",
    "        flow_type = flow[\"flowType\"]\n",
    "        index = flow_types.index(flow_type)\n",
    "        flows[index].append(flow)\n",
    "\n",
    "    # flowscnt = each flows.size\n",
    "    flowscnt.append([len(flow) for flow in flows])\n",
    "print(flowscnt)"
   ]
  },
  {
   "cell_type": "code",
   "execution_count": null,
   "metadata": {},
   "outputs": [],
   "source": [
    "baseline_idx = 7\n",
    "\n",
    "# plot the speedup ratio compared to the baseline\n",
    "# group datas in three groups: all, first 4, last 4\n",
    "\n",
    "flom_num_group = [[] for i in range(len(experiment_names))]\n",
    "flowscnt_all = [sum(flowscnt[i]) for i in range(len(experiment_names))]\n",
    "flowscnt_first4 = [sum(flowscnt[i][:4]) for i in range(len(experiment_names))]\n",
    "flowscnt_last4 = [sum(flowscnt[i][4:]) for i in range(len(experiment_names))]\n",
    "\n",
    "\n",
    "for i in range(len(experiment_names)):\n",
    "    flom_num_group[i].append(flowscnt_all[i] / flowscnt_all[baseline_idx])\n",
    "    flom_num_group[i].append(flowscnt_first4[i] / flowscnt_first4[baseline_idx])\n",
    "    flom_num_group[i].append(flowscnt_last4[i] / flowscnt_last4[baseline_idx])\n"
   ]
  },
  {
   "cell_type": "code",
   "execution_count": null,
   "metadata": {},
   "outputs": [
    {
     "data": {
      "image/png": "[encoded data removed]",
      "text/plain": [
       "<Figure size 500x180 with 1 Axes>"
      ]
     },
     "metadata": {},
     "output_type": "display_data"
    },
    {
     "data": {
      "image/png": "[encoded data removed]",
      "text/plain": [
       "<Figure size 600x50 with 1 Axes>"
      ]
     },
     "metadata": {},
     "output_type": "display_data"
    }
   ],
   "source": [
    "hatches = ['', '/', 'x', '-', '//', '+']\n",
    "colors = ['#f18181', '#ffd700', '#4068e1', '#00bfff', '#228b22', '#a9a9a9']\n",
    "\n",
    "# plot the line figure of average slowdown and p99 slowdown in one figure\n",
    "fig, ax = plt.subplots(1, 1, figsize=(5, 1.8))\n",
    "\n",
    "num_groups = 3\n",
    "num_bars_per_group = 6\n",
    "# width of each bar\n",
    "bar_width = 0.13\n",
    "\n",
    "group_positions = np.arange(num_groups)\n",
    "bar_positions = [group_positions - (num_bars_per_group - 1) / 2 * bar_width + i * bar_width for i in range(num_bars_per_group)]\n",
    "\n",
    "index = 0\n",
    "exp_is = [0, 5, 3, 4, 6, 2]\n",
    "labels = [\"PrioPlus + Swift\", \"Physical + Swift\", \"Swift\", \"D2TCP\", \"PrioPlus + LEDBAT\", \"LEDBAT\"]\n",
    "bar_idxs = [1,2,0]\n",
    "for bar_idx, i in enumerate(exp_is):\n",
    "    plt.bar(bar_positions[index], [flom_num_group[i][bar_idxs[tmp_i]] for tmp_i in range(3)],\n",
    "            width=bar_width, linestyle='-', edgecolor='black', hatch=hatches[index], color=colors[index], label=labels[index], zorder = 1111)\n",
    "    # plt.bar(bar_positions[index], p99_priority_slowdowns[i], width=bar_width, linestyle='-', edgecolor='black', hatch=hatches[index], color=colors[index], alpha=0.3)\n",
    "    # plt.bar(bar_positions[index], avg_priority_slowdowns[i], width=bar_width, linestyle='-', edgecolor='black', hatch=hatches[index], color=colors[index], label=experiment_names[i])\n",
    "    index += 1\n",
    "\n",
    "# for bar_idx, i in enumerate(exp_is):\n",
    "#     for pos, value in zip(bar_positions[bar_idx], [flom_num_group[i][bar_idxs[tmp_i]] for tmp_i in range(3)]):\n",
    "#         if value < 1:\n",
    "#             print(pos, value)\n",
    "#             ax.text(pos, 1, f'{value:.2f}', color='black', ha='center', va='bottom', fontsize=8)\n",
    "\n",
    "# ax.set_title(\"Average/P99 Slowdown\")\n",
    "# ax.set_xlabel(\"Flow Type\")\n",
    "ax.set_ylabel(\"Speedup Ratio\", fontsize=12)\n",
    "# # legend in two row\n",
    "# ax.legend(ncol=2)\n",
    "# 将legend按照2行3列存储在额外的图片figures/legend.png中\n",
    "# ax.legend(loc='upper center', bbox_to_anchor=(0.5, -0.15), ncol=3)\n",
    "\n",
    "ax.set_xticks(range(3))\n",
    "xticklabels = [\"ResNet\", \"VGG\", \"Total\"]\n",
    "ax.set_xticklabels(xticklabels)\n",
    "# ax.grid()\n",
    "\n",
    "# log scale\n",
    "# ax.set_yscale(\"log\")\n",
    "ax.tick_params(axis='x', which='major', labelsize=12)\n",
    "ax.tick_params(axis='y', which='major', labelsize=11)\n",
    "ax.set_ylim(0.8,1.2)\n",
    "# add grid但是不用覆盖bar\n",
    "# ax.grid(axis='y', linestyle='--', zorder = 0)\n",
    "# 加一条y=1的横线\n",
    "ax.axhline(y=1, color='black', linewidth=1, linestyle='--')\n",
    "\n",
    "\n",
    "plt.tight_layout()\n",
    "\n",
    "# save as pdf\n",
    "plt.savefig(\"../figures/fig12c.pdf\", bbox_inches='tight', dpi=600, format='pdf')\n",
    "\n",
    "fig_legend, ax_legend = plt.subplots(1, 1, figsize=(6, 0.5))\n",
    "ax_legend.axis('off')\n",
    "# ax_legend.legend(handles = [plt.Line2D([0], [0], color=colors[i], label=labels[i]) for i in range(len(labels))], loc='center', ncol=3)\n",
    "ax_legend.legend(*ax.get_legend_handles_labels(), loc='center', ncol=3)\n",
    "\n",
    "fig_legend.savefig(\"../figures/fig12c-legend.pdf\", bbox_inches='tight', dpi=600, format='pdf')"
   ]
  }
 ],
 "metadata": {
  "kernelspec": {
   "display_name": "Python 3",
   "language": "python",
   "name": "python3"
  },
  "language_info": {
   "codemirror_mode": {
    "name": "ipython",
    "version": 3
   },
   "file_extension": ".py",
   "mimetype": "text/x-python",
   "name": "python",
   "nbconvert_exporter": "python",
   "pygments_lexer": "ipython3",
   "version": "3.10.12"
  }
 },
 "nbformat": 4,
 "nbformat_minor": 2
}
